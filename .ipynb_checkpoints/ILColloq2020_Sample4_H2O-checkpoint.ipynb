{
 "cells": [
  {
   "cell_type": "code",
   "execution_count": null,
   "metadata": {},
   "outputs": [],
   "source": [
    "import math\n",
    "import numpy as np\n",
    "from pyscf import gto, scf, mp\n",
    "from pyscf.geomopt.berny_solver import optimize\n",
    "\n",
    "mol = gto.M(atom='''\n",
    "O\n",
    "H 1 1.0;\n",
    "H 1 1.0 2 120.0;\n",
    "''',\n",
    "basis='ccpvdz', unit='Angs', charge=0, verbose=0)\n",
    "#10^(-10)m = 0.1\n",
    "\n",
    "hf = scf.RHF(mol)\n",
    "thresh = {\n",
    "    'gradientmax':1e-3, #Eh/AA\n",
    "    'gradientrms':1e-4, #Eh/AA\n",
    "    'stepmax':1e-2, #AA\n",
    "    'steprms':1e-3, #AA\n",
    "}\n",
    "print(f'Initial geometry = \\n{mol.atom_coords()}\\n')"
   ]
  }
 ],
 "metadata": {
  "kernelspec": {
   "display_name": "Python 3",
   "language": "python",
   "name": "python3"
  },
  "language_info": {
   "codemirror_mode": {
    "name": "ipython",
    "version": 3
   },
   "file_extension": ".py",
   "mimetype": "text/x-python",
   "name": "python",
   "nbconvert_exporter": "python",
   "pygments_lexer": "ipython3",
   "version": "3.7.4"
  }
 },
 "nbformat": 4,
 "nbformat_minor": 4
}
