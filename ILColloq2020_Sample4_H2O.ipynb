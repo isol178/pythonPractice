{
 "cells": [
  {
   "cell_type": "code",
   "execution_count": 1,
   "metadata": {},
   "outputs": [
    {
     "name": "stdout",
     "output_type": "stream",
     "text": [
      "Initial geometry = \n",
      "[[ 0.          0.          0.        ]\n",
      " [ 1.88972612  0.          0.        ]\n",
      " [-0.94486306  0.          1.63655083]]\n",
      "\n"
     ]
    }
   ],
   "source": [
    "import math\n",
    "import numpy as np\n",
    "from pyscf import gto, scf, mp\n",
    "from pyscf.geomopt.berny_solver import optimize\n",
    "\n",
    "mol = gto.M(atom='''\n",
    "O\n",
    "H 1 1.0;\n",
    "H 1 1.0 2 120.0;\n",
    "''',\n",
    "basis='ccpvdz', unit='Angs', charge=0, verbose=0)\n",
    "#10^(-10)m = 0.1\n",
    "\n",
    "hf = scf.RHF(mol)\n",
    "thresh = {\n",
    "    'gradientmax':1e-3, #Eh/AA\n",
    "    'gradientrms':1e-4, #Eh/AA\n",
    "    'stepmax':1e-2, #AA\n",
    "    'steprms':1e-3, #AA\n",
    "}\n",
    "print(f'Initial geometry = \\n{mol.atom_coords()}\\n')"
   ]
  },
  {
   "cell_type": "code",
   "execution_count": 2,
   "metadata": {},
   "outputs": [
    {
     "name": "stdout",
     "output_type": "stream",
     "text": [
      "\n",
      "Geometry optimization cycle 1\n",
      "Cartesian coordinates (Angstrom)\n",
      " Atom        New coordinates             dX        dY        dZ\n",
      "   O   0.000000   0.000000   0.000000    0.000000  0.000000  0.000000\n",
      "   H   1.000000   0.000000   0.000000    0.000000  0.000000  0.000000\n",
      "   H  -0.500000   0.000000   0.866025    0.000000  0.000000  0.000000\n",
      "cycle 1: E = -76.0142704702  dE = -76.0143  norm(grad) = 0.0901091\n",
      "\n",
      "Geometry optimization cycle 2\n",
      "Cartesian coordinates (Angstrom)\n",
      " Atom        New coordinates             dX        dY        dZ\n",
      "   O  -0.018963   0.000000  -0.032846   -0.018963  0.000000 -0.032846\n",
      "   H   0.916420   0.000000   0.070152   -0.083580  0.000000  0.070152\n",
      "   H  -0.397457   0.000000   0.828719    0.102543  0.000000 -0.037306\n",
      "cycle 2: E = -76.0268051554  dE = -0.0125347  norm(grad) = 0.0160249\n",
      "\n",
      "Geometry optimization cycle 3\n",
      "Cartesian coordinates (Angstrom)\n",
      " Atom        New coordinates             dX        dY        dZ\n",
      "   O  -0.025890   0.000000  -0.044843   -0.006927  0.000000 -0.011997\n",
      "   H   0.911202   0.000000   0.081163   -0.005218  0.000000  0.011011\n",
      "   H  -0.385312   0.000000   0.829705    0.012145  0.000000  0.000986\n"
     ]
    },
    {
     "name": "stderr",
     "output_type": "stream",
     "text": [
      "/Library/Frameworks/Python.framework/Versions/3.7/lib/python3.7/site-packages/pyscf/lib/chkfile.py:165: H5pyDeprecationWarning: dataset.value has been deprecated. Use dataset[()] instead.\n",
      "  mol = gto.loads(fh5['mol'].value)\n",
      "/Library/Frameworks/Python.framework/Versions/3.7/lib/python3.7/site-packages/pyscf/lib/chkfile.py:71: H5pyDeprecationWarning: dataset.value has been deprecated. Use dataset[()] instead.\n",
      "  return val.value\n"
     ]
    },
    {
     "name": "stdout",
     "output_type": "stream",
     "text": [
      "cycle 3: E = -76.0270522047  dE = -0.000247049  norm(grad) = 0.00167964\n",
      "\n",
      "Geometry optimization cycle 4\n",
      "Cartesian coordinates (Angstrom)\n",
      " Atom        New coordinates             dX        dY        dZ\n",
      "   O  -0.026194   0.000000  -0.045369   -0.000304  0.000000 -0.000526\n",
      "   H   0.911684   0.000000   0.081235    0.000482  0.000000  0.000072\n",
      "   H  -0.385490   0.000000   0.830159   -0.000179  0.000000  0.000454\n",
      "cycle 4: E = -76.0270534857  dE = -1.28099e-06  norm(grad) = 0.000205084\n",
      "\n",
      "Geometry optimization cycle 5\n",
      "Cartesian coordinates (Angstrom)\n",
      " Atom        New coordinates             dX        dY        dZ\n",
      "   O  -0.026201   0.000000  -0.045382   -0.000007  0.000000 -0.000013\n",
      "   H   0.911565   0.000000   0.081312   -0.000119  0.000000  0.000077\n",
      "   H  -0.385364   0.000000   0.830094    0.000127  0.000000 -0.000065\n",
      "cycle 5: E = -76.0270535127  dE = -2.69661e-08  norm(grad) = 4.94336e-06\n",
      "Optimized geometry = \n",
      "[[-0.0495128   0.         -0.08575868]\n",
      " [ 1.72260779  0.          0.15365827]\n",
      " [-0.72823193  0.          1.56865124]]\n",
      "\n"
     ]
    }
   ],
   "source": [
    "mol = optimize(hf, **thresh,verbose=3)\n",
    "print(f'Optimized geometry = \\n{mol.atom_coords()}\\n')"
   ]
  },
  {
   "cell_type": "code",
   "execution_count": null,
   "metadata": {},
   "outputs": [],
   "source": []
  }
 ],
 "metadata": {
  "kernelspec": {
   "display_name": "Python 3",
   "language": "python",
   "name": "python3"
  },
  "language_info": {
   "codemirror_mode": {
    "name": "ipython",
    "version": 3
   },
   "file_extension": ".py",
   "mimetype": "text/x-python",
   "name": "python",
   "nbconvert_exporter": "python",
   "pygments_lexer": "ipython3",
   "version": "3.7.4"
  }
 },
 "nbformat": 4,
 "nbformat_minor": 4
}
